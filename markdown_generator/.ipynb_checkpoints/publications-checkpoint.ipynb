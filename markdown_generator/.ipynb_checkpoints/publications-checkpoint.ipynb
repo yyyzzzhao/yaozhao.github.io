{
 "cells": [
  {
   "cell_type": "markdown",
   "metadata": {},
   "source": [
    "# Publications markdown generator for academicpages\n",
    "\n",
    "Takes a TSV of publications with metadata and converts them for use with [academicpages.github.io](academicpages.github.io). This is an interactive Jupyter notebook ([see more info here](http://jupyter-notebook-beginner-guide.readthedocs.io/en/latest/what_is_jupyter.html)). The core python code is also in `publications.py`. Run either from the `markdown_generator` folder after replacing `publications.tsv` with one containing your data.\n",
    "\n",
    "TODO: Make this work with BibTex and other databases of citations, rather than Stuart's non-standard TSV format and citation style.\n"
   ]
  },
  {
   "cell_type": "markdown",
   "metadata": {},
   "source": [
    "## Data format\n",
    "\n",
    "The TSV needs to have the following columns: pub_date, title, venue, excerpt, citation, site_url, and paper_url, with a header at the top. \n",
    "\n",
    "- `excerpt` and `paper_url` can be blank, but the others must have values. \n",
    "- `pub_date` must be formatted as YYYY-MM-DD.\n",
    "- `url_slug` will be the descriptive part of the .md file and the permalink URL for the page about the paper. The .md file will be `YYYY-MM-DD-[url_slug].md` and the permalink will be `https://[yourdomain]/publications/YYYY-MM-DD-[url_slug]`\n",
    "\n",
    "This is how the raw file looks (it doesn't look pretty, use a spreadsheet or other program to edit and create)."
   ]
  },
  {
   "cell_type": "code",
   "execution_count": 1,
   "metadata": {},
   "outputs": [
    {
     "name": "stdout",
     "output_type": "stream",
     "text": [
      "pub_date\ttitle\tvenue\texcerpt\tcitation\turl_slug\tpaper_url\t\n",
      "2019-07-01\tValue analysis of computer-aided diagnosis of hepatic fibrosis in patients with chronic hepatitis B\t\tNational Medical Journal of China (CHINA)\t\t浠樼敎鐢�, 濮氶拪, 涓佺孩, 绛�.聽 璁＄畻鏈鸿緟鍔╄瘖鏂�鎱㈡�т箼鑲濇偅鑰呰倽绾ょ淮鍖栬繘绋嬬殑浠峰�煎垎鏋� [J] .聽涓�鍗庡尰瀛︽潅蹇�,2019,99( 7 ): 491-495. DOI: 10.3760/cma.j.issn.0376-2491.2019.07.003\t\"Value analysis of computer-aided diagnosis of hepatic fibrosis in patients with chronic hepatitis B\"\thttp://zhyxzz.yiigle.com/CN112137201907/1115971.htm?locale=zh_CN\t\n",
      "2018-12-01\tPreoperative diagnosis and prediction of hepatocellular carcinoma: Radiomics analysis based on multi-modal ultrasound images\tBMC Cancer\t\tYao, Zhao & Dong, Daisy & Wu, Guoqing & Zhang, Qi & Yang, Daohui & Yu, Jin-Hua & Wang, Wen-Ping. (2018). Preoperative diagnosis and prediction of hepatocellular carcinoma: Radiomics analysis based on multi-modal ultrasound images. BMC Cancer. 18. 10.1186/s12885-018-5003-4.\t\"Preoperative diagnosis and prediction of hepatocellular carcinoma: Radiomics analysis based on multi-modal ultrasound images.\"\thttps://www.researchgate.net/publication/328893979_Preoperative_diagnosis_and_prediction_of_hepatocellular_carcinoma_Radiomics_analysis_based_on_multi-modal_ultrasound_images\t\n",
      "2018-08-01\tPrediction of Microvascular Invasion and Tumor Differentiation Grade in Primary Hepatocellular Carcinoma Based on Imaging Histology\tChinese Computed Medical Imaging (CHINA)\t\t鍒樻�愭��, 钁ｆ��, 闊╃孩, 鎴寸寷, 濮氶拪, & 閮�濞�, et al. (2018). 鍩轰簬褰卞儚缁勫�︽柟娉曠殑鍘熷彂鎬ц倽缁嗚優鐧屽井琛�绠′镜鐘�鍜岃偪鐦ゅ垎鍖栫瓑绾ч�勬祴.聽涓�鍥藉尰瀛﹁�＄畻鏈烘垚鍍忔潅蹇�.\t\"Prediction of Microvascular Invasion and Tumor Differentiation Grade in Primary Hepatocellular Carcinoma Based on Imaging Histology.\"\thttp://www.cnki.com.cn/Article/CJFDTotal-YJTY201801021.htm\t\n"
     ]
    }
   ],
   "source": [
    "!cat publications.tsv"
   ]
  },
  {
   "cell_type": "markdown",
   "metadata": {},
   "source": [
    "## Import pandas\n",
    "\n",
    "We are using the very handy pandas library for dataframes."
   ]
  },
  {
   "cell_type": "code",
   "execution_count": 2,
   "metadata": {
    "collapsed": true
   },
   "outputs": [],
   "source": [
    "import pandas as pd"
   ]
  },
  {
   "cell_type": "markdown",
   "metadata": {},
   "source": [
    "## Import TSV\n",
    "\n",
    "Pandas makes this easy with the read_csv function. We are using a TSV, so we specify the separator as a tab, or `\\t`.\n",
    "\n",
    "I found it important to put this data in a tab-separated values format, because there are a lot of commas in this kind of data and comma-separated values can get messed up. However, you can modify the import statement, as pandas also has read_excel(), read_json(), and others."
   ]
  },
  {
   "cell_type": "code",
   "execution_count": 3,
   "metadata": {},
   "outputs": [
    {
     "data": {
      "text/html": [
       "<div>\n",
       "<style>\n",
       "    .dataframe thead tr:only-child th {\n",
       "        text-align: right;\n",
       "    }\n",
       "\n",
       "    .dataframe thead th {\n",
       "        text-align: left;\n",
       "    }\n",
       "\n",
       "    .dataframe tbody tr th {\n",
       "        vertical-align: top;\n",
       "    }\n",
       "</style>\n",
       "<table border=\"1\" class=\"dataframe\">\n",
       "  <thead>\n",
       "    <tr style=\"text-align: right;\">\n",
       "      <th></th>\n",
       "      <th>pub_date</th>\n",
       "      <th>title</th>\n",
       "      <th>venue</th>\n",
       "      <th>excerpt</th>\n",
       "      <th>citation</th>\n",
       "      <th>url_slug</th>\n",
       "      <th>paper_url</th>\n",
       "      <th>Unnamed: 7</th>\n",
       "    </tr>\n",
       "  </thead>\n",
       "  <tbody>\n",
       "    <tr>\n",
       "      <th>2019-07-01</th>\n",
       "      <td>Value analysis of computer-aided diagnosis of ...</td>\n",
       "      <td>NaN</td>\n",
       "      <td>National Medical Journal of China (CHINA)</td>\n",
       "      <td>NaN</td>\n",
       "      <td>付甜甜, 姚钊, 丁红, 等.  计算机辅助诊断慢性乙肝患者肝纤维化进程的价值分析 [J] ...</td>\n",
       "      <td>Value analysis of computer-aided diagnosis of ...</td>\n",
       "      <td>http://zhyxzz.yiigle.com/CN112137201907/111597...</td>\n",
       "      <td>NaN</td>\n",
       "    </tr>\n",
       "    <tr>\n",
       "      <th>2018-12-01</th>\n",
       "      <td>Preoperative diagnosis and prediction of hepat...</td>\n",
       "      <td>BMC Cancer</td>\n",
       "      <td>NaN</td>\n",
       "      <td>Yao, Zhao &amp; Dong, Daisy &amp; Wu, Guoqing &amp; Zhang,...</td>\n",
       "      <td>Preoperative diagnosis and prediction of hepat...</td>\n",
       "      <td>https://www.researchgate.net/publication/32889...</td>\n",
       "      <td>NaN</td>\n",
       "      <td>NaN</td>\n",
       "    </tr>\n",
       "    <tr>\n",
       "      <th>2018-08-01</th>\n",
       "      <td>Prediction of Microvascular Invasion and Tumor...</td>\n",
       "      <td>Chinese Computed Medical Imaging (CHINA)</td>\n",
       "      <td>NaN</td>\n",
       "      <td>刘桐桐, 董怡, 韩红, 戴猛, 姚钊, &amp; 郭威, et al. (2018). 基于影像...</td>\n",
       "      <td>Prediction of Microvascular Invasion and Tumor...</td>\n",
       "      <td>http://www.cnki.com.cn/Article/CJFDTotal-YJTY2...</td>\n",
       "      <td>NaN</td>\n",
       "      <td>NaN</td>\n",
       "    </tr>\n",
       "  </tbody>\n",
       "</table>\n",
       "</div>"
      ],
      "text/plain": [
       "                                                     pub_date  \\\n",
       "2019-07-01  Value analysis of computer-aided diagnosis of ...   \n",
       "2018-12-01  Preoperative diagnosis and prediction of hepat...   \n",
       "2018-08-01  Prediction of Microvascular Invasion and Tumor...   \n",
       "\n",
       "                                               title  \\\n",
       "2019-07-01                                       NaN   \n",
       "2018-12-01                                BMC Cancer   \n",
       "2018-08-01  Chinese Computed Medical Imaging (CHINA)   \n",
       "\n",
       "                                                venue  \\\n",
       "2019-07-01  National Medical Journal of China (CHINA)   \n",
       "2018-12-01                                        NaN   \n",
       "2018-08-01                                        NaN   \n",
       "\n",
       "                                                      excerpt  \\\n",
       "2019-07-01                                                NaN   \n",
       "2018-12-01  Yao, Zhao & Dong, Daisy & Wu, Guoqing & Zhang,...   \n",
       "2018-08-01  刘桐桐, 董怡, 韩红, 戴猛, 姚钊, & 郭威, et al. (2018). 基于影像...   \n",
       "\n",
       "                                                     citation  \\\n",
       "2019-07-01  付甜甜, 姚钊, 丁红, 等.  计算机辅助诊断慢性乙肝患者肝纤维化进程的价值分析 [J] ...   \n",
       "2018-12-01  Preoperative diagnosis and prediction of hepat...   \n",
       "2018-08-01  Prediction of Microvascular Invasion and Tumor...   \n",
       "\n",
       "                                                     url_slug  \\\n",
       "2019-07-01  Value analysis of computer-aided diagnosis of ...   \n",
       "2018-12-01  https://www.researchgate.net/publication/32889...   \n",
       "2018-08-01  http://www.cnki.com.cn/Article/CJFDTotal-YJTY2...   \n",
       "\n",
       "                                                    paper_url  Unnamed: 7  \n",
       "2019-07-01  http://zhyxzz.yiigle.com/CN112137201907/111597...         NaN  \n",
       "2018-12-01                                                NaN         NaN  \n",
       "2018-08-01                                                NaN         NaN  "
      ]
     },
     "execution_count": 3,
     "metadata": {},
     "output_type": "execute_result"
    }
   ],
   "source": [
    "publications = pd.read_csv(\"publications.tsv\", sep=\"\\t\", header=0)\n",
    "publications\n"
   ]
  },
  {
   "cell_type": "markdown",
   "metadata": {},
   "source": [
    "## Escape special characters\n",
    "\n",
    "YAML is very picky about how it takes a valid string, so we are replacing single and double quotes (and ampersands) with their HTML encoded equivilents. This makes them look not so readable in raw format, but they are parsed and rendered nicely."
   ]
  },
  {
   "cell_type": "code",
   "execution_count": 4,
   "metadata": {
    "collapsed": true
   },
   "outputs": [],
   "source": [
    "html_escape_table = {\n",
    "    \"&\": \"&amp;\",\n",
    "    '\"': \"&quot;\",\n",
    "    \"'\": \"&apos;\"\n",
    "    }\n",
    "\n",
    "def html_escape(text):\n",
    "    \"\"\"Produce entities within text.\"\"\"\n",
    "    return \"\".join(html_escape_table.get(c,c) for c in text)"
   ]
  },
  {
   "cell_type": "markdown",
   "metadata": {},
   "source": [
    "## Creating the markdown files\n",
    "\n",
    "This is where the heavy lifting is done. This loops through all the rows in the TSV dataframe, then starts to concatentate a big string (```md```) that contains the markdown for each type. It does the YAML metadata first, then does the description for the individual page."
   ]
  },
  {
   "cell_type": "code",
   "execution_count": 5,
   "metadata": {},
   "outputs": [],
   "source": [
    "import os\n",
    "for row, item in publications.iterrows():\n",
    "    \n",
    "    md_filename = str(item.pub_date) + \"-\" + item.url_slug + \".md\"\n",
    "    html_filename = str(item.pub_date) + \"-\" + item.url_slug\n",
    "    year = item.pub_date[:4]\n",
    "    \n",
    "    ## YAML variables\n",
    "    \n",
    "    md = \"---\\ntitle: \\\"\"   + item.title + '\"\\n'\n",
    "    \n",
    "    md += \"\"\"collection: publications\"\"\"\n",
    "    \n",
    "    md += \"\"\"\\npermalink: /publication/\"\"\" + html_filename\n",
    "    \n",
    "    if len(str(item.excerpt)) > 5:\n",
    "        md += \"\\nexcerpt: '\" + html_escape(item.excerpt) + \"'\"\n",
    "    \n",
    "    md += \"\\ndate: \" + str(item.pub_date) \n",
    "    \n",
    "    md += \"\\nvenue: '\" + html_escape(item.venue) + \"'\"\n",
    "    \n",
    "    if len(str(item.paper_url)) > 5:\n",
    "        md += \"\\npaperurl: '\" + item.paper_url + \"'\"\n",
    "    \n",
    "    md += \"\\ncitation: '\" + html_escape(item.citation) + \"'\"\n",
    "    \n",
    "    md += \"\\n---\"\n",
    "    \n",
    "    ## Markdown description for individual page\n",
    "        \n",
    "    if len(str(item.excerpt)) > 5:\n",
    "        md += \"\\n\" + html_escape(item.excerpt) + \"\\n\"\n",
    "    \n",
    "    if len(str(item.paper_url)) > 5:\n",
    "        md += \"\\n[Download paper here](\" + item.paper_url + \")\\n\" \n",
    "        \n",
    "    md += \"\\nRecommended citation: \" + item.citation\n",
    "    \n",
    "    md_filename = os.path.basename(md_filename)\n",
    "       \n",
    "    with open(\"../_publications/\" + md_filename, 'w') as f:\n",
    "        f.write(md)"
   ]
  },
  {
   "cell_type": "markdown",
   "metadata": {},
   "source": [
    "These files are in the publications directory, one directory below where we're working from."
   ]
  },
  {
   "cell_type": "code",
   "execution_count": 6,
   "metadata": {},
   "outputs": [
    {
     "name": "stdout",
     "output_type": "stream",
     "text": [
      "2009-10-01-paper-title-number-1.md  2015-10-01-paper-title-number-3.md\r\n",
      "2010-10-01-paper-title-number-2.md\r\n"
     ]
    }
   ],
   "source": [
    "!ls ../_publications/"
   ]
  },
  {
   "cell_type": "code",
   "execution_count": 7,
   "metadata": {},
   "outputs": [
    {
     "name": "stdout",
     "output_type": "stream",
     "text": [
      "---\r\n",
      "title: \"Paper Title Number 1\"\r\n",
      "collection: publications\r\n",
      "permalink: /publication/2009-10-01-paper-title-number-1\r\n",
      "excerpt: 'This paper is about the number 1. The number 2 is left for future work.'\r\n",
      "date: 2009-10-01\r\n",
      "venue: 'Journal 1'\r\n",
      "paperurl: 'http://academicpages.github.io/files/paper1.pdf'\r\n",
      "citation: 'Your Name, You. (2009). &quot;Paper Title Number 1.&quot; <i>Journal 1</i>. 1(1).'\r\n",
      "---\r\n",
      "This paper is about the number 1. The number 2 is left for future work.\r\n",
      "\r\n",
      "[Download paper here](http://academicpages.github.io/files/paper1.pdf)\r\n",
      "\r\n",
      "Recommended citation: Your Name, You. (2009). \"Paper Title Number 1.\" <i>Journal 1</i>. 1(1)."
     ]
    }
   ],
   "source": [
    "!cat ../_publications/2009-10-01-paper-title-number-1.md"
   ]
  },
  {
   "cell_type": "code",
   "execution_count": null,
   "metadata": {
    "collapsed": true
   },
   "outputs": [],
   "source": []
  }
 ],
 "metadata": {
  "kernelspec": {
   "display_name": "Python 3",
   "language": "python",
   "name": "python3"
  },
  "language_info": {
   "codemirror_mode": {
    "name": "ipython",
    "version": 3
   },
   "file_extension": ".py",
   "mimetype": "text/x-python",
   "name": "python",
   "nbconvert_exporter": "python",
   "pygments_lexer": "ipython3",
   "version": "3.6.2"
  }
 },
 "nbformat": 4,
 "nbformat_minor": 1
}
